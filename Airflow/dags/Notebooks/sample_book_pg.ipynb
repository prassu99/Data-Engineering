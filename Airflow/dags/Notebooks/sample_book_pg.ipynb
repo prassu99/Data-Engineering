{
 "cells": [
  {
   "cell_type": "code",
   "execution_count": 2,
   "id": "e60cc97b",
   "metadata": {},
   "outputs": [],
   "source": [
    "# import postgresql client\n",
    "import psycopg2\n",
    "from psycopg2 import sql\n",
    "import random\n",
    "# import the connect.py module\n",
    "from connect import connect\n"
   ]
  },
  {
   "cell_type": "code",
   "execution_count": null,
   "id": "b93f3589",
   "metadata": {},
   "outputs": [],
   "source": [
    "# create a table\n",
    "# cur.execute(\"\"\"create table if not exists orders (\n",
    "#         order_id serial primary key,\n",
    "#         customer_id int,\n",
    "#         status varchar(50),\n",
    "#         quqantity int,\n",
    "#         order_date date,\n",
    "#         unit_price decimal(10, 2)\n",
    "#     )\n",
    "# \"\"\")\n",
    "\n",
    "# select all records from the table\n",
    "conn = connect()\n",
    "cur=conn.cursor()\n",
    "rows = cur.execute(\"SELECT * FROM orders\")\n",
    "print(rows)\n",
    "# print(rows)\n",
    "# insert 100 randon records into the table\n",
    "for i in range(100):\n",
    "    cur.execute(\n",
    "        sql.SQL(\"INSERT INTO orders (customer_id, status, quqantity, order_date, unit_price) VALUES (%s, %s, %s, %s, %s)\"),\n",
    "        (random.randint(1, 10), 'finished', random.randint(1, 10), '2024-'+str(random.randint(1, 12))+'-'+str(random.randint(1, 28)), random.randint(1, 100))\n",
    "    )\n",
    "\n",
    "# commit the changes\n",
    "conn.commit()\n",
    "# read the records from the table\n",
    "cur.execute(\"SELECT * FROM orders\")\n",
    "rows = cur.fetchall()\n",
    "# print the records\n",
    "for row in rows:\n",
    "    print(row)\n",
    "# close the cursor and connection\n",
    "cur.close()\n",
    "conn.close()"
   ]
  },
  {
   "cell_type": "code",
   "execution_count": null,
   "id": "f64332cd",
   "metadata": {},
   "outputs": [],
   "source": [
    "\n",
    "conn = connect()\n",
    "cur=conn.cursor()\n",
    "cur.execute(\n",
    "        sql.SQL(\"select * from orders \")\n",
    "    )\n",
    "rows = cur.fetchall()\n",
    "# print the records\n",
    "for row in rows:\n",
    "    print(row)\n",
    "# close the cursor and connection\n",
    "cur.close()\n",
    "conn.close()"
   ]
  },
  {
   "cell_type": "code",
   "execution_count": null,
   "id": "fd52417f",
   "metadata": {},
   "outputs": [],
   "source": [
    "conn = connect()\n",
    "cur=conn.cursor()\n",
    "\n",
    "# update the records in the table\n",
    "cur.execute(\n",
    "        sql.SQL(\"update orders set status = 'Completed' where status = 'finished' \")\n",
    "    )\n",
    "# commit the changes\n",
    "conn.commit()\n",
    "# read the records from the table\n",
    "cur.execute(\"SELECT * FROM orders\")\n",
    "rows = cur.fetchall()\n",
    "# print the records\n",
    "for row in rows:\n",
    "    print(row)\n",
    "# close the cursor and connection\n",
    "cur.close()\n",
    "conn.close()"
   ]
  }
 ],
 "metadata": {
  "kernelspec": {
   "display_name": "Python 3",
   "language": "python",
   "name": "python3"
  },
  "language_info": {
   "codemirror_mode": {
    "name": "ipython",
    "version": 3
   },
   "file_extension": ".py",
   "mimetype": "text/x-python",
   "name": "python",
   "nbconvert_exporter": "python",
   "pygments_lexer": "ipython3",
   "version": "3.13.1"
  }
 },
 "nbformat": 4,
 "nbformat_minor": 5
}
